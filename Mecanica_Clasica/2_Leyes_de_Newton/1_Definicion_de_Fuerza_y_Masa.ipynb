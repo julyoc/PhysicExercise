{
 "cells": [
  {
   "cell_type": "code",
   "execution_count": 2,
   "metadata": {},
   "outputs": [],
   "source": [
    "import numpy as np"
   ]
  },
  {
   "cell_type": "markdown",
   "metadata": {},
   "source": [
    "# Definición de Fuerza y Masa"
   ]
  },
  {
   "attachments": {},
   "cell_type": "markdown",
   "metadata": {},
   "source": [
    "## Cantidad de movimiento\n",
    "\n",
    "La cantidad de movimiento, momento lineal, ímpetu, momentum o simplemente momento,​ es una magnitud física derivada de tipo vectorial que describe el movimiento de un cuerpo en cualquier teoría mecánica. En mecánica clásica, la cantidad de movimiento se define como el producto de la masa del cuerpo y su velocidad en un instante determinado.\n",
    "\n",
    "$$\n",
    "\\vec{p} = m \\cdot \\vec{v} ~~~~ \\vec{p} = m \\frac{d \\vec{r}}{d t}\n",
    "$$\n",
    "\n",
    "- $ p $: Cantidad de movimiento.\n",
    "- $ m $: Masa.\n",
    "- $ v $: Velocidad del movimiento.\n",
    "- $ r $: desplazamiento en el movimiento.\n",
    "- $ t $: tiempo.\n",
    "\n",
    "Conservación de la cantidad de movimiento\n",
    "\n",
    "$$\n",
    "\\sum_{i=1}^{n} \\vec{p_{1i}} = \\sum_{i=1}^{n} \\vec{p_{0i}}\n",
    "$$"
   ]
  },
  {
   "attachments": {},
   "cell_type": "markdown",
   "metadata": {},
   "source": [
    "## Fuerza\n",
    "\n",
    "En física clásica, la fuerza (abreviatura F) es un fenómeno que modifica el movimiento de un cuerpo (lo acelera, frena, cambia el sentido, etc.) o bien lo deforma. Las fuerzas pueden representarse mediante vectores, ya que poseen magnitud y dirección.\n",
    "\n",
    "$$\n",
    "\\vec{F} = \\frac{d \\vec{p}}{d t} ~~~~ \\vec{F} = m \\cdot \\vec{a}\n",
    "$$\n",
    "\n",
    "- $ F $: Fuerza.\n",
    "- $ p $: Cantidad de movimiento.\n",
    "- $ a $: aceleración.\n",
    "- $ t $: tiempo."
   ]
  },
  {
   "attachments": {},
   "cell_type": "markdown",
   "metadata": {},
   "source": [
    "## Primera ley de newton\n",
    "\n",
    "Si la fuerza resultante que actúa sobre una partícula es cero, la partícula permanecerá en reposo o se moverá con velocidad constante en línea recta.\n",
    "\n",
    "$$\n",
    "\\sum_{i=0}^{n} \\vec{F_i} = 0\n",
    "$$"
   ]
  },
  {
   "attachments": {},
   "cell_type": "markdown",
   "metadata": {},
   "source": [
    "## Segunda ley de newton\n",
    "\n",
    "Si la fuerza resultante que actúa sobre una partícula no es cero, la partícula tendrá una aceleración proporcional a la magnitud de la resultante y en la dirección de ésta.\n",
    "\n",
    "$$\n",
    "\\sum_{i=0}^{n} \\vec{F_i} = m \\cdot \\vec{a}\n",
    "$$"
   ]
  },
  {
   "attachments": {},
   "cell_type": "markdown",
   "metadata": {},
   "source": [
    "## Tercera ley de newton\n",
    "\n",
    "Las fuerzas de acción y reacción de cuerpos en contacto tienen la misma magnitud, la misma línea de acción y sentidos opuestos.\n",
    "\n",
    "$$\n",
    "\\vec{F_1} = - \\vec{F_2}\n",
    "$$"
   ]
  },
  {
   "attachments": {},
   "cell_type": "markdown",
   "metadata": {},
   "source": [
    "## Fuerza de rozamiento\n",
    "\n",
    "La fuerza de rozamiento o de fricción ($ F_r =  $) es una fuerza que surge por el contacto de dos cuerpos y se opone al movimiento.\n",
    "\n",
    "### En reposo\n",
    "\n",
    "La fuerza de rozamiento tiene el mismo módulo, dirección y sentido contrario de la fuerza horizontal (si existe) que intenta ponerlo en movimiento sin conseguirlo.\n",
    "\n",
    "### En movimiento\n",
    "\n",
    "Como la fuerza de rozamiento depende de los materiales y de la fuerza que ejerce uno sobre el otro.\n",
    "\n",
    "$$\n",
    "F_r = \\mu \\cdot F_n\n",
    "$$\n",
    "\n",
    "- $ F_r $: Fuerza de rozamiento.\n",
    "- $ \\mu $: Coeficiente de rozamiento.\n",
    "- $ F_n $: Fuerza normal."
   ]
  },
  {
   "attachments": {},
   "cell_type": "markdown",
   "metadata": {},
   "source": [
    "## Peso\n",
    "\n",
    "En física moderna, el peso es una medida de la fuerza gravitatoria que actúa sobre un objeto.​ El peso equivale a la fuerza que ejerce un cuerpo sobre un punto de apoyo, originada por la acción del campo gravitatorio local sobre la masa del cuerpo. \n",
    "\n",
    "$$\n",
    "W = m \\cdot g\n",
    "$$\n",
    "\n",
    "- $ W $: Peso.\n",
    "- $ m $: masa.\n",
    "- $ g $: gravedad ($ g = 10 [m / s^2] $)"
   ]
  },
  {
   "attachments": {},
   "cell_type": "markdown",
   "metadata": {},
   "source": [
    "# Ejercicios"
   ]
  },
  {
   "attachments": {},
   "cell_type": "markdown",
   "metadata": {},
   "source": [
    "## Ejercicio 1\n",
    "\n",
    "Encontrar la fuerza ($ F $) para que el objeto se mueva con velocidad constante hacia la derecha, el coeficiente de rozamiento del plano inclinado es $ \\mu = 0.15 $.\n",
    "\n",
    "![ejr 1](./img/ejr_1.png)\n",
    "\n",
    "### Solución\n",
    "\n",
    "Se gráfica las fuerzas que se involucran en el movimiento.\n",
    "\n",
    "![ejr 1 sol](./img/ejr_1_2.png)\n",
    "\n",
    "Primero se descomponen cada una de las fuerzas las fuerzas \n",
    "\n",
    "$$\n",
    "25° = 0.43633 [rad]\n",
    "\\vec{W} = m \\cdot g \\cdot \\vec{e}\n",
    "\\\\\n",
    "\\vec{W}  = 12 [Kg] \\cdot 10 [m/s^2] \\cdot ( \\cos \\theta \\vec{i} + \\sin \\theta \\vec{j})\n",
    "\\\\\n",
    "\\vec{W}  = 120 [Kg m/s^2] \\cdot ( \\cos 3.5779 \\vec{i} + \\sin 3.5779 \\vec{j})\n",
    "$$"
   ]
  },
  {
   "cell_type": "code",
   "execution_count": 33,
   "metadata": {},
   "outputs": [
    {
     "name": "stdout",
     "output_type": "stream",
     "text": [
      "W =  [ -50.71393985 -108.75705175]\n"
     ]
    }
   ],
   "source": [
    "theta = 2 * np.pi - 0.43633 - (np.pi / 2)\n",
    "e = np.array([np.cos(theta), np.sin(theta)])\n",
    "W = 120 * e\n",
    "F_n = np.array([0, - W[1]])\n",
    "print('W = ', W)"
   ]
  },
  {
   "attachments": {},
   "cell_type": "markdown",
   "metadata": {},
   "source": [
    "$$\n",
    "\\vec{W} = - 50.714 \\vec{i} - 108.757 \\vec{j} [N]\n",
    "$$\n",
    "\n",
    "Decimos que $ F_n = 108.757 [N] $, entonces F_r es:\n",
    "\n",
    "$$\n",
    "F_r = \\mu \\cdot F_n\n",
    "\\\\\n",
    "F_r = 0.15 \\cdot 108.757 [N]\n",
    "$$"
   ]
  },
  {
   "cell_type": "code",
   "execution_count": 31,
   "metadata": {},
   "outputs": [
    {
     "name": "stdout",
     "output_type": "stream",
     "text": [
      "F_r =  [-16.31355776   0.        ]\n"
     ]
    }
   ],
   "source": [
    "mu = 0.15\n",
    "F_r = np.array([mu * W[1], 0])\n",
    "print('F_r = ', F_r)"
   ]
  },
  {
   "attachments": {},
   "cell_type": "markdown",
   "metadata": {},
   "source": [
    "$$\n",
    "F_r = 16.3136 [N] => \\vec{F_r} = - 16.3136 \\vec{i} [N]\n",
    "$$\n",
    "\n",
    "Una ves obtenido $ F_r $ se procede a realizar la sumatoria de fuerzas.\n",
    "\n",
    "$$\n",
    "\\sum_ F = 0\n",
    "\\\\\n",
    "\\vec{F} + \\vec{F_n} + \\vec{F_r} + \\vec{W} = 0\n",
    "\\\\\n",
    "\\vec{F} + 108.757 \\vec{j} [N] - 16.3136 \\vec{i} [N] - 50.714 \\vec{i} - 108.757 \\vec{j} [N] = 0\n",
    "\\\\\n",
    "\\vec{F} = - \\vec{F_n} - \\vec{F_r} - \\vec{W}\n",
    "\\\\\n",
    "\\vec{F} = - 108.757 \\vec{j} [N] + 16.3136 \\vec{i} [N] + (50.714 \\vec{i} + 108.757 \\vec{j}) [N]\n",
    "$$"
   ]
  },
  {
   "cell_type": "code",
   "execution_count": 34,
   "metadata": {},
   "outputs": [
    {
     "name": "stdout",
     "output_type": "stream",
     "text": [
      "F =  [67.02749762  0.        ]\n"
     ]
    }
   ],
   "source": [
    "F = - F_n - F_r - W\n",
    "print('F = ',F)"
   ]
  },
  {
   "attachments": {},
   "cell_type": "markdown",
   "metadata": {},
   "source": [
    "#### Resultado\n",
    "\n",
    "**$$ \\vec{F} = 67.027 \\vec{i} [N] $$**"
   ]
  }
 ],
 "metadata": {
  "kernelspec": {
   "display_name": "vs-env",
   "language": "python",
   "name": "python3"
  },
  "language_info": {
   "codemirror_mode": {
    "name": "ipython",
    "version": 3
   },
   "file_extension": ".py",
   "mimetype": "text/x-python",
   "name": "python",
   "nbconvert_exporter": "python",
   "pygments_lexer": "ipython3",
   "version": "3.11.2"
  },
  "orig_nbformat": 4
 },
 "nbformat": 4,
 "nbformat_minor": 2
}
