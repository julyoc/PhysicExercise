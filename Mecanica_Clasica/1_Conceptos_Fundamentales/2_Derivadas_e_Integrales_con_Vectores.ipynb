{
 "cells": [
  {
   "cell_type": "code",
   "execution_count": null,
   "metadata": {},
   "outputs": [],
   "source": [
    "import numpy as np"
   ]
  },
  {
   "attachments": {},
   "cell_type": "markdown",
   "metadata": {},
   "source": [
    "# Calculo con Vectores\n",
    "\n",
    "[ref](https://openstax.org/books/c%C3%A1lculo-volumen-3/pages/6-5-divergencia-y-rizo)"
   ]
  }
 ],
 "metadata": {
  "kernelspec": {
   "display_name": "vs-env",
   "language": "python",
   "name": "python3"
  },
  "language_info": {
   "name": "python",
   "version": "3.11.2"
  },
  "orig_nbformat": 4
 },
 "nbformat": 4,
 "nbformat_minor": 2
}
